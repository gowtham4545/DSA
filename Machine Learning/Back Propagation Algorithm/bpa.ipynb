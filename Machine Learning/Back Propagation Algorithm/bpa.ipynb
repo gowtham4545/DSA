{
 "cells": [
  {
   "cell_type": "code",
   "execution_count": 1,
   "metadata": {},
   "outputs": [],
   "source": [
    "import numpy as np\n",
    "from numpy import random as rand "
   ]
  },
  {
   "cell_type": "code",
   "execution_count": 2,
   "metadata": {},
   "outputs": [],
   "source": [
    "x = np.array(([2, 9], [1, 5], [3, 6]))\n",
    "y = np.array(([92], [86], [89]))\n",
    "\n",
    "x = x/np.amax(x, axis=0)\n",
    "y = y/100"
   ]
  },
  {
   "cell_type": "code",
   "execution_count": 3,
   "metadata": {},
   "outputs": [
    {
     "data": {
      "text/plain": [
       "(array([[0.66666667, 1.        ],\n",
       "        [0.33333333, 0.55555556],\n",
       "        [1.        , 0.66666667]]),\n",
       " array([[0.92],\n",
       "        [0.86],\n",
       "        [0.89]]))"
      ]
     },
     "execution_count": 3,
     "metadata": {},
     "output_type": "execute_result"
    }
   ],
   "source": [
    "x,y"
   ]
  },
  {
   "cell_type": "code",
   "execution_count": 4,
   "metadata": {},
   "outputs": [],
   "source": [
    "def sigmoid(x):\n",
    "    return 1/(1+np.exp(-x))\n",
    "\n",
    "\n",
    "def sigmoid_grad(x):\n",
    "    return x*(1-x)"
   ]
  },
  {
   "cell_type": "code",
   "execution_count": 5,
   "metadata": {},
   "outputs": [],
   "source": [
    "epoch=1000\n",
    "eta=0.2\n",
    "\n",
    "input_neurons=len(x[0])\n",
    "hidden_neurons=3\n",
    "output_neurons=len(y[0])\n",
    "\n",
    "wh=rand.uniform(size=(input_neurons,hidden_neurons))\n",
    "bh=rand.uniform(size=(1,hidden_neurons))\n",
    "\n",
    "wout=rand.uniform(size=(hidden_neurons,output_neurons))\n",
    "bout=rand.uniform(size=(1,output_neurons))"
   ]
  },
  {
   "cell_type": "code",
   "execution_count": 6,
   "metadata": {},
   "outputs": [],
   "source": [
    "for _ in range(epoch):\n",
    "    h_ip = np.dot(x, wh)+bh\n",
    "    h_act = sigmoid(h_ip)\n",
    "\n",
    "    o_ip = np.dot(h_act, wout)+bout\n",
    "    o_act = sigmoid(o_ip)\n",
    "\n",
    "    '''Back Propagation'''\n",
    "    error_output = y-o_act\n",
    "    out_grad = sigmoid_grad(o_act)\n",
    "    d_output = out_grad * error_output\n",
    "\n",
    "    error_hidden = d_output.dot(wout.T)\n",
    "    hidden_grad = sigmoid_grad(h_act)\n",
    "    d_hidden = error_hidden*hidden_grad\n",
    "\n",
    "    wout = h_act.T.dot(d_output)*eta\n",
    "    wh += x.T.dot(d_hidden)*eta"
   ]
  },
  {
   "cell_type": "code",
   "execution_count": 7,
   "metadata": {},
   "outputs": [
    {
     "data": {
      "text/plain": [
       "(array([[0.66666667, 1.        ],\n",
       "        [0.33333333, 0.55555556],\n",
       "        [1.        , 0.66666667]]),\n",
       " array([[0.92],\n",
       "        [0.86],\n",
       "        [0.89]]),\n",
       " array([[0.73539564],\n",
       "        [0.73472776],\n",
       "        [0.73549337]]))"
      ]
     },
     "execution_count": 7,
     "metadata": {},
     "output_type": "execute_result"
    }
   ],
   "source": [
    "x,y,o_act"
   ]
  }
 ],
 "metadata": {
  "kernelspec": {
   "display_name": "Python 3",
   "language": "python",
   "name": "python3"
  },
  "language_info": {
   "codemirror_mode": {
    "name": "ipython",
    "version": 3
   },
   "file_extension": ".py",
   "mimetype": "text/x-python",
   "name": "python",
   "nbconvert_exporter": "python",
   "pygments_lexer": "ipython3",
   "version": "3.10.10"
  }
 },
 "nbformat": 4,
 "nbformat_minor": 2
}
